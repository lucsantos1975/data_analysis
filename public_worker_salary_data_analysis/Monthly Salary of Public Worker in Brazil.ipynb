{
 "cells": [
  {
   "cell_type": "markdown",
   "metadata": {},
   "source": [
    "## Exploration of the dataset \"Monthly Salary of Public Worker in Brazil\"\n",
    "https://www.kaggle.com/gustavomodelli/monthly-salary-of-public-worker-in-brazil/version/1\n",
    "\n",
    "**Context**\n",
    "\n",
    "The monthly salary of the public workers of the State of São Paulo in Brazil is a Public data available in the transparency portal of the state government at: http://www.transparencia.sp.gov.br/buscaRemunera.html\n",
    "\n",
    "**Content**\n",
    "\n",
    "The data is about the salary for all worker in the State for the month of October 2017. There are just over one million records. The names of the employee are anonymous represented by the variable id."
   ]
  },
  {
   "cell_type": "code",
   "execution_count": 2,
   "metadata": {},
   "outputs": [],
   "source": [
    "import pandas as pd"
   ]
  },
  {
   "cell_type": "markdown",
   "metadata": {},
   "source": [
    "The CSV file is compressed in the monthly-salary-of-public-worker-in-brazil.zip\n",
    "After unzip and try to read with pd.read_csv(), we will see various errors due to inconsistencies in the number of fields in some lines.\n",
    "\n",
    "```python\n",
    "data = pd.read_csv('monthly_salary_brazil.csv', index_col=0)\n",
    "```\n",
    "\n",
    "```\n",
    "Id,job,sector,Month_salary,13_salary,eventual_salary,indemnity,extra_salary,discount_salary,total_salary\n",
    "1,OFICIAL ADMINISTRATIVO,DETRAN,2315.810,0.000,0.000,0.000,73.850,0.000,1929.340\n",
    "2,SD 2C PM,PM,3034.050,0.000,0.000,0.000,651.820,0.000,2265.960\n",
    "3,1TEN  PM,PM,8990.980,0.000,0.000,0.000,626.750,0.000,6933.040\n",
    "4,MAJ   PM,SPPREV,13591.020,0.000,0.000,0.000,0.000,0.000,10568.360\n",
    "...\n",
    "845,TEC MANUT., PROJETOS E OBRAS,CPTM,3861.030,9538.260,41.810,0.000,0.000,0.000,11782.060\n",
    "...\n",
    "```\n",
    "\n",
    "At line 845 we see the value of job field with an unexpected comma. This problem occurs many times in other lines.\n",
    "\n",
    "We need to implement the data cleaning before reading it in pandas"
   ]
  },
  {
   "cell_type": "code",
   "execution_count": 33,
   "metadata": {
    "scrolled": false
   },
   "outputs": [
    {
     "name": "stdout",
     "output_type": "stream",
     "text": [
      "Number of inconsistent lines found:  919\n",
      "Saving cleaned file: monthly_salary_brazil_cleaned.csv\n"
     ]
    }
   ],
   "source": [
    "import csv\n",
    "\n",
    "inconsistent_lines_count = 0\n",
    "cleaned_data_list = []\n",
    "\n",
    "with open('monthly_salary_brazil.csv', mode='r') as csv_file:\n",
    "    csv_data = csv_file.readlines()\n",
    "    \n",
    "    for idx, line in enumerate(csv_data):\n",
    "        values = line.rstrip('\\r\\n').split(',')\n",
    "        \n",
    "        if len(values) > 10:\n",
    "            inconsistent_lines_count += 1\n",
    "            \n",
    "            # joining 2nd and 3rd fields\n",
    "            values[1] = values[1] + values[2]\n",
    "            \n",
    "            # removing 3rd field\n",
    "            del(values[2])\n",
    "        \n",
    "        cleaned_data_list.append(values)\n",
    "\n",
    "print('Number of inconsistent lines found: ', inconsistent_lines_count)\n",
    "\n",
    "print('Saving cleaned file: monthly_salary_brazil_cleaned.csv')\n",
    "\n",
    "with open('monthly_salary_brazil_cleaned.csv', mode='w') as cleaned_csv_file:\n",
    "    csv_writer = csv.writer(cleaned_csv_file, delimiter=',')\n",
    "    for item in cleaned_data_list:\n",
    "        csv_writer.writerow(item)"
   ]
  },
  {
   "cell_type": "markdown",
   "metadata": {},
   "source": [
    "Finally we can read the cleaned data with pandas:"
   ]
  },
  {
   "cell_type": "code",
   "execution_count": 36,
   "metadata": {},
   "outputs": [
    {
     "name": "stderr",
     "output_type": "stream",
     "text": [
      "/home/luciano/Workspace/data_analysis/public_worker_salary_data_analysis/venv/lib/python3.5/site-packages/numpy/lib/arraysetops.py:466: FutureWarning: elementwise comparison failed; returning scalar instead, but in the future will perform elementwise comparison\n",
      "  mask |= (ar1 == a)\n"
     ]
    }
   ],
   "source": [
    "data = pd.read_csv('monthly_salary_brazil_cleaned.csv', index_col=0)"
   ]
  },
  {
   "cell_type": "code",
   "execution_count": 37,
   "metadata": {},
   "outputs": [
    {
     "name": "stdout",
     "output_type": "stream",
     "text": [
      "<class 'pandas.core.frame.DataFrame'>\n",
      "Int64Index: 1085678 entries, 1 to 1085678\n",
      "Data columns (total 9 columns):\n",
      "job                1085650 non-null object\n",
      "sector             1085678 non-null object\n",
      "Month_salary       1085678 non-null float64\n",
      "13_salary          1085678 non-null float64\n",
      "eventual_salary    1085678 non-null float64\n",
      "indemnity          1085678 non-null float64\n",
      "extra_salary       1085678 non-null float64\n",
      "discount_salary    1085678 non-null float64\n",
      "total_salary       1085678 non-null float64\n",
      "dtypes: float64(7), object(2)\n",
      "memory usage: 82.8+ MB\n",
      "None\n"
     ]
    }
   ],
   "source": [
    "print(data.info())"
   ]
  },
  {
   "cell_type": "code",
   "execution_count": 38,
   "metadata": {},
   "outputs": [
    {
     "name": "stdout",
     "output_type": "stream",
     "text": [
      "                                        job     sector  Month_salary  \\\n",
      "Id                                                                     \n",
      "1                    OFICIAL ADMINISTRATIVO     DETRAN       2315.81   \n",
      "2                                  SD 2C PM         PM       3034.05   \n",
      "3                                  1TEN  PM         PM       8990.98   \n",
      "4                                  MAJ   PM     SPPREV      13591.02   \n",
      "5                 AG.TEC. DE ASSIT. A SAUDE    HCFMUSP       4203.67   \n",
      "6                                  SD 1C PM         PM       4373.69   \n",
      "7                                  1CFO  PM         PM       2311.76   \n",
      "8   BENEFICIARIO DE SERVIDOR ESTADUAL-IPESP     SPPREV       1699.19   \n",
      "9                                  CABO  PM         PM       3767.78   \n",
      "10                                 SD 1C PM         PM       3821.99   \n",
      "11             PROFESSOR EDUCACAO BASICA II     SPPREV       3340.51   \n",
      "12                 COMPLEM. PENSAO - FEPASA  ADM GERAL       3167.93   \n",
      "13   BENEFICIARIO DA POLICIA MILITAR - CBPM     SPPREV      11508.18   \n",
      "14              PROFESSOR EDUCACAO BASICA I     SPPREV       2536.67   \n",
      "15                                 1SGT  PM     SPPREV       6313.68   \n",
      "16             AGENTE DE SERVICOS ESCOLARES     SPPREV       1798.56   \n",
      "17            AGENTE DE ORGANIZACAO ESCOLAR   EDUCACAO       1549.39   \n",
      "18  BENEFICIARIO DE SERVIDOR ESTADUAL-IPESP     SPPREV       1034.79   \n",
      "19  BENEFICIARIO DE SERVIDOR ESTADUAL-IPESP     SPPREV       1685.55   \n",
      "20              PROFESSOR EDUCACAO BASICA I     SPPREV       3153.23   \n",
      "\n",
      "    13_salary  eventual_salary  indemnity  extra_salary  discount_salary  \\\n",
      "Id                                                                         \n",
      "1        0.00             0.00        0.0         73.85              0.0   \n",
      "2        0.00             0.00        0.0        651.82              0.0   \n",
      "3        0.00             0.00        0.0        626.75              0.0   \n",
      "4        0.00             0.00        0.0          0.00              0.0   \n",
      "5        0.00             0.00        0.0          0.00              0.0   \n",
      "6        0.00             0.00        0.0        451.26              0.0   \n",
      "7        0.00             0.00        0.0          0.00              0.0   \n",
      "8        0.00             0.00        0.0          0.00              0.0   \n",
      "9        0.00             0.00        0.0        626.75              0.0   \n",
      "10     603.57             0.00        0.0        601.68              0.0   \n",
      "11       0.00             0.00        0.0          0.00              0.0   \n",
      "12       0.00             0.00        0.0          0.00              0.0   \n",
      "13     959.01           191.79        0.0          0.00              0.0   \n",
      "14       0.00             0.00        0.0          0.00              0.0   \n",
      "15       0.00             0.00        0.0          0.00              0.0   \n",
      "16       0.00             0.00        0.0          0.00              0.0   \n",
      "17     774.69             0.00        0.0         69.03              0.0   \n",
      "18       0.00             0.00        0.0          0.00              0.0   \n",
      "19       0.00             0.00        0.0          0.00              0.0   \n",
      "20       0.00             0.00        0.0          0.00              0.0   \n",
      "\n",
      "    total_salary  \n",
      "Id                \n",
      "1        1929.34  \n",
      "2        2265.96  \n",
      "3        6933.04  \n",
      "4       10568.36  \n",
      "5        3561.88  \n",
      "6        4152.98  \n",
      "7        1967.28  \n",
      "8        1699.19  \n",
      "9        2703.47  \n",
      "10       3010.04  \n",
      "11       3273.70  \n",
      "12       1117.45  \n",
      "13      11023.01  \n",
      "14       2449.03  \n",
      "15       3400.74  \n",
      "16       1296.67  \n",
      "17       2106.49  \n",
      "18        723.52  \n",
      "19       1668.70  \n",
      "20       1942.26  \n"
     ]
    }
   ],
   "source": [
    "print(data.head(20))"
   ]
  },
  {
   "cell_type": "code",
   "execution_count": 10,
   "metadata": {},
   "outputs": [
    {
     "name": "stdout",
     "output_type": "stream",
     "text": [
      "['DETRAN' 'PM' 'SPPREV' 'HCFMUSP' 'ADM GERAL' 'EDUCACAO' 'PGE' 'SAP'\n",
      " 'PRODESP' 'SSP' 'FUND. CASA' 'SAUDE' 'CDHU' 'CPTM' 'METRO' 'DAEE' 'DAESP'\n",
      " 'SABESP' 'DER' 'SAA' 'HCFMRP' 'CEETEPS' 'PROCON' 'FAZENDA' 'SECRETARIA'\n",
      " 'FURP' 'ITESP' 'MEIO AMBIE' 'SUCEN' 'FDE' 'UNIVESP' 'ZOOLOGICO' 'IPT'\n",
      " 'IMESP' 'SDS' 'INSTITUTO' 'CESP' 'TRANSP. ME' 'EMTU' 'PRO-SANGUE'\n",
      " 'SEPLAN' 'CPOS' 'IPEM' 'FAMEMA' 'PE. ANCHIE' 'CETESB' 'DERSA' 'TURISMO'\n",
      " 'FUND. FLOR' 'EMAE' 'HCFMB' 'CULTURA' 'FMSJRPRETO' 'EMPLASA' 'JUSTICA'\n",
      " 'CODASP' 'FUNAP' 'SDECTI' 'CIA DOCAS' 'SERT' 'ESPORTE' 'CASA CIVIL'\n",
      " 'RECURSOS H' 'FAPESP' 'ENERGIA' 'JUCESP' 'MEMORIAL' 'IPESP' 'FOSP'\n",
      " 'HABITACAO' 'SEADE' 'DESENVOLVE' 'IMESC' 'ARSESP' 'SPPREVCOM' 'AGEMVALE'\n",
      " 'SDPD' 'ARTESP' 'TRANSPORTE' 'CPSEC' 'CBPM' 'AGEMCAMP' 'COSESP' 'CPP'\n",
      " 'AGEM' 'GAB GOV' 'SP.CLIN.FA']\n"
     ]
    }
   ],
   "source": [
    "# list of sectors\n",
    "\n",
    "sectors = data['sector'].unique()\n",
    "\n",
    "print(sectors)"
   ]
  },
  {
   "cell_type": "code",
   "execution_count": 43,
   "metadata": {},
   "outputs": [],
   "source": [
    "# Education data\n",
    "\n",
    "education_data = data.loc[data['sector'] == 'EDUCACAO']"
   ]
  },
  {
   "cell_type": "code",
   "execution_count": 44,
   "metadata": {},
   "outputs": [
    {
     "name": "stdout",
     "output_type": "stream",
     "text": [
      "                               job    sector  Month_salary  13_salary  \\\n",
      "Id                                                                      \n",
      "17   AGENTE DE ORGANIZACAO ESCOLAR  EDUCACAO       1549.39     774.69   \n",
      "30     PROFESSOR EDUCACAO BASICA I  EDUCACAO       3517.15    1758.57   \n",
      "49    PROFESSOR EDUCACAO BASICA II  EDUCACAO       2959.13       0.00   \n",
      "63    PROFESSOR EDUCACAO BASICA II  EDUCACAO       3902.78       0.00   \n",
      "76     PROFESSOR EDUCACAO BASICA I  EDUCACAO        965.48       0.00   \n",
      "105  AGENTE DE ORGANIZACAO ESCOLAR  EDUCACAO       1345.79     224.29   \n",
      "108   PROFESSOR EDUCACAO BASICA II  EDUCACAO        785.16     392.58   \n",
      "109   PROFESSOR EDUCACAO BASICA II  EDUCACAO       6308.20    3154.09   \n",
      "127   PROFESSOR EDUCACAO BASICA II  EDUCACAO       1509.92       0.00   \n",
      "147   PROFESSOR EDUCACAO BASICA II  EDUCACAO       5027.37       0.00   \n",
      "152   PROFESSOR EDUCACAO BASICA II  EDUCACAO       4267.19       0.00   \n",
      "160   PROFESSOR EDUCACAO BASICA II  EDUCACAO       2077.75       0.00   \n",
      "161   PROFESSOR EDUCACAO BASICA II  EDUCACAO       1791.17       0.00   \n",
      "187   PROFESSOR EDUCACAO BASICA II  EDUCACAO       3533.33       0.00   \n",
      "188   PROFESSOR EDUCACAO BASICA II  EDUCACAO       3289.83       0.00   \n",
      "198   PROFESSOR EDUCACAO BASICA II  EDUCACAO       5190.89    2595.44   \n",
      "212   PROFESSOR EDUCACAO BASICA II  EDUCACAO       2657.46    1328.73   \n",
      "220   PROFESSOR EDUCACAO BASICA II  EDUCACAO       4778.23    2389.11   \n",
      "236   PROFESSOR EDUCACAO BASICA II  EDUCACAO       2464.19       0.00   \n",
      "248  AGENTE DE ORGANIZACAO ESCOLAR  EDUCACAO       1302.58       0.00   \n",
      "\n",
      "     eventual_salary  indemnity  extra_salary  discount_salary  total_salary  \n",
      "Id                                                                            \n",
      "17               0.0       0.00         69.03              0.0       2106.49  \n",
      "30               0.0       0.00        512.92              0.0       4106.75  \n",
      "49               0.0       0.00          0.00              0.0       1316.32  \n",
      "63               0.0       0.00          0.00              0.0       2897.89  \n",
      "76               0.0       0.00        175.07              0.0       1063.32  \n",
      "105              0.0       0.00        210.49              0.0       1605.63  \n",
      "108              0.0       0.00        132.89              0.0       1035.52  \n",
      "109            695.8    6308.19        213.00              0.0      14155.20  \n",
      "127              0.0       0.00         91.80              0.0       1345.05  \n",
      "147              0.0       0.00          0.00              0.0       2923.94  \n",
      "152              0.0       0.00          0.00              0.0       2061.91  \n",
      "160              0.0       0.00        166.12              0.0       1850.97  \n",
      "161              0.0       0.00        150.92              0.0       1527.07  \n",
      "187              0.0       0.00         76.80              0.0       3022.39  \n",
      "188              0.0       0.00         15.20              0.0       2618.99  \n",
      "198              0.0       0.00        856.48              0.0       7015.55  \n",
      "212              0.0       0.00        484.23              0.0       2901.12  \n",
      "220              0.0       0.00          0.00              0.0       5926.67  \n",
      "236              0.0       0.00        125.04              0.0       2242.75  \n",
      "248              0.0       0.00        210.64              0.0        934.28  \n"
     ]
    }
   ],
   "source": [
    "print(education_data.head(20))"
   ]
  },
  {
   "cell_type": "code",
   "execution_count": 45,
   "metadata": {},
   "outputs": [
    {
     "name": "stdout",
     "output_type": "stream",
     "text": [
      "        Month_salary      13_salary  eventual_salary      indemnity  \\\n",
      "count  259238.000000  259238.000000    259238.000000  259238.000000   \n",
      "mean     2788.508586     111.961624        82.497940      16.660125   \n",
      "std      1619.317960     444.399615       743.722249     292.181877   \n",
      "min         0.000000   -1915.600000    -18586.410000   -3503.790000   \n",
      "25%      1640.360000       0.000000         0.000000       0.000000   \n",
      "50%      2451.390000       0.000000         0.000000       0.000000   \n",
      "75%      3577.420000       0.000000         0.000000       0.000000   \n",
      "max     19467.940000    8739.480000     51111.550000   13773.280000   \n",
      "\n",
      "        extra_salary  discount_salary   total_salary  \n",
      "count  259238.000000    259238.000000  259238.000000  \n",
      "mean      140.528147        -0.082418    2231.600333  \n",
      "std       602.169734        38.367101    1630.823378  \n",
      "min    -26393.950000    -19467.940000  -25405.700000  \n",
      "25%        13.500000         0.000000    1296.717500  \n",
      "50%        85.490000         0.000000    1915.470000  \n",
      "75%       150.360000         0.000000    2707.317500  \n",
      "max     44573.610000         0.000000   63363.560000  \n"
     ]
    }
   ],
   "source": [
    "print(education_data.describe())"
   ]
  },
  {
   "cell_type": "code",
   "execution_count": 40,
   "metadata": {},
   "outputs": [
    {
     "name": "stdout",
     "output_type": "stream",
     "text": [
      "['AGENTE DE ORGANIZACAO ESCOLAR' 'PROFESSOR EDUCACAO BASICA I'\n",
      " 'PROFESSOR EDUCACAO BASICA II' 'SECRETARIO DE ESCOLA'\n",
      " 'AGENTE DE SERVICOS ESCOLARES' 'AUXILIAR SERV. GERAIS'\n",
      " 'SUPERVISOR DE ENSINO' 'DIRETOR DE ESCOLA' 'OFICIAL ADMINISTRATIVO'\n",
      " 'DIRETOR I' 'DIRETOR II' 'EXECUTIVO PUBLICO' 'ASSESSOR II'\n",
      " 'DIRIGENTE REGIONAL DE ENSINO' 'DIRETOR TECNICO I' 'ASSESSOR TECNICO I'\n",
      " 'DIRETOR TECNICO II' 'ANALISTA ADMINISTRATIVO' 'ASSIST.ADM.ESCOLAR'\n",
      " 'ASSESSOR TECNICO DE GABINETE III' 'ANALISTA SOCIO CULTURAL'\n",
      " 'ASSESSOR TECNICO V' 'AG.TEC. DE ASSIT. A SAUDE' 'DIRETOR TECNICO III'\n",
      " 'ASSESSOR I' 'ASSESSOR TECNICO DE GABINETE II' 'PROFESSOR II'\n",
      " 'ASSESSOR TECNICO II' 'ASSESSOR TECNICO III' 'OUTROS VINCULOS'\n",
      " 'ASSESSOR TECNICO IV' 'ASSESSOR TECNICO DE GABINETE IV' 'COORDENADOR'\n",
      " 'ENCARREGADO I' 'OFICIAL OPERACIONAL' 'ASSESSOR TECN.COORDENADOR'\n",
      " 'ESCRIVAO POL.CLASSE ESPECIAL' 'SECRETARIO ADJUNTO' 'ESTAGIARIO'\n",
      " 'ASSESSOR TECNICO DE GABINETE I' 'CHEFE I' 'SECRETARIO DE ESTADO'\n",
      " 'COORDENADOR PEDAGOGICO' 'ASSESSOR DE GABINETE I' 'CHEFE DE GABINETE']\n"
     ]
    }
   ],
   "source": [
    "# Education jobs\n",
    "\n",
    "education_jobs = education_data['job'].unique()\n",
    "\n",
    "print(education_jobs)"
   ]
  },
  {
   "cell_type": "code",
   "execution_count": 51,
   "metadata": {
    "scrolled": true
   },
   "outputs": [
    {
     "data": {
      "text/html": [
       "<div>\n",
       "<style scoped>\n",
       "    .dataframe tbody tr th:only-of-type {\n",
       "        vertical-align: middle;\n",
       "    }\n",
       "\n",
       "    .dataframe tbody tr th {\n",
       "        vertical-align: top;\n",
       "    }\n",
       "\n",
       "    .dataframe thead th {\n",
       "        text-align: right;\n",
       "    }\n",
       "</style>\n",
       "<table border=\"1\" class=\"dataframe\">\n",
       "  <thead>\n",
       "    <tr style=\"text-align: right;\">\n",
       "      <th></th>\n",
       "      <th>job</th>\n",
       "      <th>sector</th>\n",
       "      <th>Month_salary</th>\n",
       "      <th>13_salary</th>\n",
       "      <th>eventual_salary</th>\n",
       "      <th>indemnity</th>\n",
       "      <th>extra_salary</th>\n",
       "      <th>discount_salary</th>\n",
       "      <th>total_salary</th>\n",
       "    </tr>\n",
       "    <tr>\n",
       "      <th>Id</th>\n",
       "      <th></th>\n",
       "      <th></th>\n",
       "      <th></th>\n",
       "      <th></th>\n",
       "      <th></th>\n",
       "      <th></th>\n",
       "      <th></th>\n",
       "      <th></th>\n",
       "      <th></th>\n",
       "    </tr>\n",
       "  </thead>\n",
       "  <tbody>\n",
       "    <tr>\n",
       "      <th>30</th>\n",
       "      <td>PROFESSOR EDUCACAO BASICA I</td>\n",
       "      <td>EDUCACAO</td>\n",
       "      <td>3517.15</td>\n",
       "      <td>1758.57</td>\n",
       "      <td>0.00</td>\n",
       "      <td>0.0</td>\n",
       "      <td>512.92</td>\n",
       "      <td>0.0</td>\n",
       "      <td>4106.75</td>\n",
       "    </tr>\n",
       "    <tr>\n",
       "      <th>76</th>\n",
       "      <td>PROFESSOR EDUCACAO BASICA I</td>\n",
       "      <td>EDUCACAO</td>\n",
       "      <td>965.48</td>\n",
       "      <td>0.00</td>\n",
       "      <td>0.00</td>\n",
       "      <td>0.0</td>\n",
       "      <td>175.07</td>\n",
       "      <td>0.0</td>\n",
       "      <td>1063.32</td>\n",
       "    </tr>\n",
       "    <tr>\n",
       "      <th>307</th>\n",
       "      <td>PROFESSOR EDUCACAO BASICA I</td>\n",
       "      <td>EDUCACAO</td>\n",
       "      <td>2606.30</td>\n",
       "      <td>1303.14</td>\n",
       "      <td>0.00</td>\n",
       "      <td>0.0</td>\n",
       "      <td>132.42</td>\n",
       "      <td>0.0</td>\n",
       "      <td>2873.69</td>\n",
       "    </tr>\n",
       "    <tr>\n",
       "      <th>331</th>\n",
       "      <td>PROFESSOR EDUCACAO BASICA I</td>\n",
       "      <td>EDUCACAO</td>\n",
       "      <td>1421.81</td>\n",
       "      <td>0.00</td>\n",
       "      <td>42.98</td>\n",
       "      <td>0.0</td>\n",
       "      <td>188.29</td>\n",
       "      <td>0.0</td>\n",
       "      <td>1154.48</td>\n",
       "    </tr>\n",
       "    <tr>\n",
       "      <th>383</th>\n",
       "      <td>PROFESSOR EDUCACAO BASICA I</td>\n",
       "      <td>EDUCACAO</td>\n",
       "      <td>2298.79</td>\n",
       "      <td>-14.97</td>\n",
       "      <td>-230.95</td>\n",
       "      <td>0.0</td>\n",
       "      <td>150.87</td>\n",
       "      <td>0.0</td>\n",
       "      <td>2008.49</td>\n",
       "    </tr>\n",
       "  </tbody>\n",
       "</table>\n",
       "</div>"
      ],
      "text/plain": [
       "                             job    sector  Month_salary  13_salary  \\\n",
       "Id                                                                    \n",
       "30   PROFESSOR EDUCACAO BASICA I  EDUCACAO       3517.15    1758.57   \n",
       "76   PROFESSOR EDUCACAO BASICA I  EDUCACAO        965.48       0.00   \n",
       "307  PROFESSOR EDUCACAO BASICA I  EDUCACAO       2606.30    1303.14   \n",
       "331  PROFESSOR EDUCACAO BASICA I  EDUCACAO       1421.81       0.00   \n",
       "383  PROFESSOR EDUCACAO BASICA I  EDUCACAO       2298.79     -14.97   \n",
       "\n",
       "     eventual_salary  indemnity  extra_salary  discount_salary  total_salary  \n",
       "Id                                                                            \n",
       "30              0.00        0.0        512.92              0.0       4106.75  \n",
       "76              0.00        0.0        175.07              0.0       1063.32  \n",
       "307             0.00        0.0        132.42              0.0       2873.69  \n",
       "331            42.98        0.0        188.29              0.0       1154.48  \n",
       "383          -230.95        0.0        150.87              0.0       2008.49  "
      ]
     },
     "execution_count": 51,
     "metadata": {},
     "output_type": "execute_result"
    }
   ],
   "source": [
    "professor_educacao_basica_i = education_data.loc[education_data['job'] == 'PROFESSOR EDUCACAO BASICA I',:]\n",
    "\n",
    "professor_educacao_basica_i.head()"
   ]
  },
  {
   "cell_type": "code",
   "execution_count": 62,
   "metadata": {},
   "outputs": [
    {
     "data": {
      "image/png": "[encoded data removed]",
      "text/plain": [
       "<matplotlib.figure.Figure at 0x7f74135510b8>"
      ]
     },
     "metadata": {},
     "output_type": "display_data"
    }
   ],
   "source": [
    "import matplotlib.pyplot as plt\n",
    "\n",
    "plt.hist(professor_educacao_basica_i['Month_salary'], bins=20)\n",
    "plt.title('Professores da educação básica I (SP)')\n",
    "plt.ylabel('Frequência')\n",
    "plt.xlabel('Salário (R\\$)')\n",
    "plt.show()"
   ]
  },
  {
   "cell_type": "code",
   "execution_count": 68,
   "metadata": {},
   "outputs": [
    {
     "name": "stdout",
     "output_type": "stream",
     "text": [
      "<class 'pandas.core.frame.DataFrame'>\n",
      "job\n",
      "AG.TEC. DE ASSIT. A SAUDE               46\n",
      "AGENTE DE ORGANIZACAO ESCOLAR        33516\n",
      "AGENTE DE SERVICOS ESCOLARES          5464\n",
      "ANALISTA ADMINISTRATIVO                364\n",
      "ANALISTA SOCIO CULTURAL                 49\n",
      "ASSESSOR DE GABINETE I                   1\n",
      "ASSESSOR I                              19\n",
      "ASSESSOR II                            310\n",
      "ASSESSOR TECN.COORDENADOR                9\n",
      "ASSESSOR TECNICO DE GABINETE I           6\n",
      "ASSESSOR TECNICO DE GABINETE II         16\n",
      "ASSESSOR TECNICO DE GABINETE III        16\n",
      "ASSESSOR TECNICO DE GABINETE IV         18\n",
      "ASSESSOR TECNICO I                      76\n",
      "ASSESSOR TECNICO II                     26\n",
      "ASSESSOR TECNICO III                    39\n",
      "ASSESSOR TECNICO IV                     18\n",
      "ASSESSOR TECNICO V                      23\n",
      "ASSIST.ADM.ESCOLAR                     106\n",
      "AUXILIAR SERV. GERAIS                  659\n",
      "CHEFE DE GABINETE                        1\n",
      "CHEFE I                                  3\n",
      "COORDENADOR                              5\n",
      "COORDENADOR PEDAGOGICO                   1\n",
      "DIRETOR DE ESCOLA                     4672\n",
      "DIRETOR I                              653\n",
      "DIRETOR II                              95\n",
      "DIRETOR TECNICO I                      324\n",
      "DIRETOR TECNICO II                     234\n",
      "DIRETOR TECNICO III                     19\n",
      "DIRIGENTE REGIONAL DE ENSINO            88\n",
      "ENCARREGADO I                            3\n",
      "ESCRIVAO POL.CLASSE ESPECIAL             1\n",
      "ESTAGIARIO                               1\n",
      "EXECUTIVO PUBLICO                      335\n",
      "OFICIAL ADMINISTRATIVO                1644\n",
      "OFICIAL OPERACIONAL                      4\n",
      "OUTROS VINCULOS                         16\n",
      "PROFESSOR EDUCACAO BASICA I          51793\n",
      "PROFESSOR EDUCACAO BASICA II        155080\n",
      "PROFESSOR II                            45\n",
      "SECRETARIO ADJUNTO                       1\n",
      "SECRETARIO DE ESCOLA                  1844\n",
      "SECRETARIO DE ESTADO                     1\n",
      "SUPERVISOR DE ENSINO                  1594\n",
      "Name: sector, dtype: int64\n"
     ]
    }
   ],
   "source": [
    "# Number of workers of each education job\n",
    "\n",
    "print(type(education_data))\n",
    "print(education_data.groupby('job')['sector'].count())"
   ]
  }
 ],
 "metadata": {
  "kernelspec": {
   "display_name": "Python 3",
   "language": "python",
   "name": "python3"
  },
  "language_info": {
   "codemirror_mode": {
    "name": "ipython",
    "version": 3
   },
   "file_extension": ".py",
   "mimetype": "text/x-python",
   "name": "python",
   "nbconvert_exporter": "python",
   "pygments_lexer": "ipython3",
   "version": "3.5.2"
  }
 },
 "nbformat": 4,
 "nbformat_minor": 2
}
