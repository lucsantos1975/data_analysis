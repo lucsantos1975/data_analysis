{
 "cells": [
  {
   "cell_type": "markdown",
   "metadata": {},
   "source": [
    "## Exploration of the dataset \"Monthly Salary of Public Worker in Brazil\"\n",
    "https://www.kaggle.com/gustavomodelli/monthly-salary-of-public-worker-in-brazil/version/1"
   ]
  },
  {
   "cell_type": "code",
   "execution_count": 6,
   "metadata": {},
   "outputs": [],
   "source": [
    "import pandas as pd"
   ]
  },
  {
   "cell_type": "markdown",
   "metadata": {},
   "source": [
    "The CSV file is compressed in the monthly-salary-of-public-worker-in-brazil.zip\n",
    "After unzip and try to read with pd.read_csv(), we will see various errors due to inconsistencies in the number of fields in some lines.\n",
    "\n",
    "```python\n",
    "data = pd.read_csv('monthly_salary_brazil.csv', index_col=0)\n",
    "```\n",
    "\n",
    "```\n",
    "Id,job,sector,Month_salary,13_salary,eventual_salary,indemnity,extra_salary,discount_salary,total_salary\n",
    "1,OFICIAL ADMINISTRATIVO,DETRAN,2315.810,0.000,0.000,0.000,73.850,0.000,1929.340\n",
    "2,SD 2C PM,PM,3034.050,0.000,0.000,0.000,651.820,0.000,2265.960\n",
    "3,1TEN  PM,PM,8990.980,0.000,0.000,0.000,626.750,0.000,6933.040\n",
    "4,MAJ   PM,SPPREV,13591.020,0.000,0.000,0.000,0.000,0.000,10568.360\n",
    "...\n",
    "845,TEC MANUT., PROJETOS E OBRAS,CPTM,3861.030,9538.260,41.810,0.000,0.000,0.000,11782.060\n",
    "...\n",
    "```\n",
    "\n",
    "At line 845 we see the value of job field with an unexpected comma. This problem occurs many times in other lines.\n",
    "\n",
    "We need to implement the data cleaning before reading it in pandas"
   ]
  },
  {
   "cell_type": "code",
   "execution_count": 33,
   "metadata": {
    "scrolled": false
   },
   "outputs": [
    {
     "name": "stdout",
     "output_type": "stream",
     "text": [
      "Number of inconsistent lines found:  919\n",
      "Saving cleaned file: monthly_salary_brazil_cleaned.csv\n"
     ]
    }
   ],
   "source": [
    "import csv\n",
    "\n",
    "inconsistent_lines_count = 0\n",
    "cleaned_data_list = []\n",
    "\n",
    "with open('monthly_salary_brazil.csv', mode='r') as csv_file:\n",
    "    csv_data = csv_file.readlines()\n",
    "    \n",
    "    for idx, line in enumerate(csv_data):\n",
    "        values = line.rstrip('\\r\\n').split(',')\n",
    "        \n",
    "        if len(values) > 10:\n",
    "            inconsistent_lines_count += 1\n",
    "            \n",
    "            # joining 2nd and 3rd fields\n",
    "            values[1] = values[1] + values[2]\n",
    "            \n",
    "            # removing 3rd field\n",
    "            del(values[2])\n",
    "        \n",
    "        cleaned_data_list.append(values)\n",
    "\n",
    "print('Number of inconsistent lines found: ', inconsistent_lines_count)\n",
    "\n",
    "print('Saving cleaned file: monthly_salary_brazil_cleaned.csv')\n",
    "\n",
    "with open('monthly_salary_brazil_cleaned.csv', mode='w') as cleaned_csv_file:\n",
    "    csv_writer = csv.writer(cleaned_csv_file, delimiter=',')\n",
    "    for item in cleaned_data_list:\n",
    "        csv_writer.writerow(item)"
   ]
  },
  {
   "cell_type": "markdown",
   "metadata": {},
   "source": [
    "Finally we can read the cleaned data with pandas:"
   ]
  },
  {
   "cell_type": "code",
   "execution_count": 34,
   "metadata": {},
   "outputs": [
    {
     "name": "stderr",
     "output_type": "stream",
     "text": [
      "/home/luciano/Workspace/public_worker_salary_data_analysis/venv/lib/python3.5/site-packages/numpy/lib/arraysetops.py:466: FutureWarning: elementwise comparison failed; returning scalar instead, but in the future will perform elementwise comparison\n",
      "  mask |= (ar1 == a)\n"
     ]
    },
    {
     "name": "stdout",
     "output_type": "stream",
     "text": [
      "<class 'pandas.core.frame.DataFrame'>\n",
      "Int64Index: 1085678 entries, 1 to 1085678\n",
      "Data columns (total 9 columns):\n",
      "job                1085650 non-null object\n",
      "sector             1085678 non-null object\n",
      "Month_salary       1085678 non-null float64\n",
      "13_salary          1085678 non-null float64\n",
      "eventual_salary    1085678 non-null float64\n",
      "indemnity          1085678 non-null float64\n",
      "extra_salary       1085678 non-null float64\n",
      "discount_salary    1085678 non-null float64\n",
      "total_salary       1085678 non-null float64\n",
      "dtypes: float64(7), object(2)\n",
      "memory usage: 82.8+ MB\n",
      "None\n"
     ]
    }
   ],
   "source": [
    "data = pd.read_csv('monthly_salary_brazil_cleaned.csv', index_col=0)\n",
    "\n",
    "print(data.info())"
   ]
  }
 ],
 "metadata": {
  "kernelspec": {
   "display_name": "Python 3",
   "language": "python",
   "name": "python3"
  },
  "language_info": {
   "codemirror_mode": {
    "name": "ipython",
    "version": 3
   },
   "file_extension": ".py",
   "mimetype": "text/x-python",
   "name": "python",
   "nbconvert_exporter": "python",
   "pygments_lexer": "ipython3",
   "version": "3.5.2"
  }
 },
 "nbformat": 4,
 "nbformat_minor": 2
}
